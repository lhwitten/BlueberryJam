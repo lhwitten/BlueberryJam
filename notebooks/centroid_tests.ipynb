{
 "cells": [
  {
   "cell_type": "code",
   "execution_count": 2,
   "metadata": {},
   "outputs": [],
   "source": [
    "import cv2 as cv\n",
    "import numpy as np\n",
    "from matplotlib import colors\n",
    "from random import randint\n",
    "\n",
    "import sys\n",
    "sys.path.append(\"/home/blueberryjam/BlueberryJam/src\")\n",
    "\n",
    "from preprocess_img import *\n",
    "\n",
    "# overripe_path = 'ORN_02.jpg'\n",
    "# imgOR = cv.imread('../img/test_set/overripe/'+overripe_path)\n",
    "abs_path = \"captures/streams/20241104_235707/image_20241104_235737.jpg\"\n",
    "abs_path = \"captures/streams/20241104_235707/image_20241104_235747.jpg\"\n",
    "mask = [(0, 70, 100), (95, 125, 134)] # [low, high]\n",
    "\n",
    "#processed = preprocess_image(mask,path=None,frame=frame)\n",
    "\n",
    "masked,img_rgb = perform_backgrounding(mask,path=abs_path)\n",
    "\n",
    "output_img = perform_centroiding(masked,img_rgb)"
   ]
  }
 ],
 "metadata": {
  "kernelspec": {
   "display_name": "blueberryjammin",
   "language": "python",
   "name": "python3"
  },
  "language_info": {
   "codemirror_mode": {
    "name": "ipython",
    "version": 3
   },
   "file_extension": ".py",
   "mimetype": "text/x-python",
   "name": "python",
   "nbconvert_exporter": "python",
   "pygments_lexer": "ipython3",
   "version": "3.8.20"
  }
 },
 "nbformat": 4,
 "nbformat_minor": 2
}
