{
 "cells": [
  {
   "cell_type": "markdown",
   "metadata": {},
   "source": [
    "## Tuning Blueberry Masks\n",
    "#### Blueberry masks used by the classifier use the HSV colorspace to create numerical representations of the desired colors.\n",
    "![HSV colorspace reference from Adobe](https://external-content.duckduckgo.com/iu/?u=https%3A%2F%2Fas1.ftcdn.net%2Fv2%2Fjpg%2F04%2F75%2F66%2F04%2F1000_F_475660473_MszZtgh9iFyLnDzJORs1M3WsrqMe4VUI.jpg&f=1&nofb=1&ipt=1a8f8bfe772c52ff9505d62ab02613859e0fab18799e99a3f42d3356db1b7758&ipo=images)\n",
    "---\n",
    "This Jupyter Notebook is written to help you find or tweak your HSV masks to better suit your berries.\n",
    "\n",
    "1. import dependencies"
   ]
  },
  {
   "cell_type": "code",
   "execution_count": null,
   "metadata": {},
   "outputs": [],
   "source": [
    "import cv2 as cv\n",
    "import numpy as np\n",
    "from matplotlib import colors\n",
    "import matplotlib.pyplot as plt"
   ]
  },
  {
   "cell_type": "markdown",
   "metadata": {},
   "source": [
    "2. read your test image from your local files\n",
    "    1. this can be a recent frame from the system's captured stream: \n",
    "    2. navigate to `/home/blueberryjam/BlueberryJam/logs/` in your file explorer and select an appropriate image with berries that should be classified"
   ]
  },
  {
   "cell_type": "code",
   "execution_count": null,
   "metadata": {},
   "outputs": [],
   "source": [
    "# replace img_path with the image's file name\n",
    "img_path = 'image_01.jpg'\n",
    "img = cv.imread('/home/blueberryjam/BlueberryJam/logs/'+img_path)\n",
    "\n",
    "# convert from BGR to other color spaces\n",
    "img_rgb = cv.cvtColor(img, cv.COLOR_BGR2RGB) # this makes the image viewable to you\n",
    "img_hsv = cv.cvtColor(img, cv.COLOR_BGR2HSV) # this converts the image to the colorspace that the masks use\n",
    "\n",
    "# display image in color spaces\n",
    "fig = plt.figure()\n",
    "gridspec = fig.add_gridspec(nrows=4, ncols=12)\n",
    "fig.add_subplot(gridspec[0:4, 0:5])\n",
    "plt.title(\"RGB Colorspace\")\n",
    "plt.imshow(img_rgb)\n",
    "fig.add_subplot(gridspec[0:4, 7:12])\n",
    "plt.title(\"HSV Colorspace\")\n",
    "plt.imshow(img_hsv)"
   ]
  },
  {
   "cell_type": "markdown",
   "metadata": {},
   "source": [
    "3. Normalize the image's colors and split the image into separate Hue, Saturation, and Value channels"
   ]
  },
  {
   "cell_type": "code",
   "execution_count": null,
   "metadata": {},
   "outputs": [],
   "source": [
    "# normalize colors\n",
    "norm = colors.Normalize(vmin=-1.,vmax=1.)\n",
    "pixel_colors = img.reshape((np.shape(img)[0]*np.shape(img)[1], 3))\n",
    "norm.autoscale(pixel_colors)\n",
    "pixel_colors = norm(pixel_colors).tolist()\n",
    "\n",
    "hue,sat,val = cv.split(img)\n",
    "hue = cv.normalize(hue,None,0,255,cv.NORM_MINMAX)"
   ]
  },
  {
   "cell_type": "markdown",
   "metadata": {},
   "source": [
    "4. Show the image in each color channel.\n",
    "    1. Set show_scatter according to your visualization preferences -- each setting has tradeoffs\n",
    "        1. `show_scatter = True` \n",
    "        - 2D scatter plots show two color channels plotted on a 2D plane \n",
    "        - Advantage: compare pixel color against the numerical values for two channels at a time\n",
    "        - Disadvantage: computationally expensive and slow to generate scatter plots\n",
    "        2. `show_scatter = False`\n",
    "        - Single-channel images show one HSV color channel values across an image in a heatmap style\n",
    "        - Advantage: quick to generate single-channel images\n",
    "        - Disadvantage: compare pixel color against colormap -- requires interpolation"
   ]
  },
  {
   "cell_type": "code",
   "execution_count": null,
   "metadata": {},
   "outputs": [],
   "source": [
    "show_scatter = False\n",
    "\n",
    "if show_scatter == True:\n",
    "    plt.figure()\n",
    "    plt.title('Underripe')\n",
    "    plt.scatter(hue.flatten(), sat.flatten(), s=val.flatten(), c=pixel_colors, marker=\".\")\n",
    "    plt.xlabel(\"Hue\")\n",
    "    plt.ylabel(\"Saturation\")\n",
    "\n",
    "    plt.figure()\n",
    "    plt.scatter(sat.flatten(), val.flatten(), s=hue.flatten(), c=pixel_colors, marker=\".\")\n",
    "    plt.xlabel(\"Saturation\")\n",
    "    plt.ylabel(\"Value\")\n",
    "\n",
    "    plt.figure()\n",
    "    plt.scatter(val.flatten(), hue.flatten(), s=sat.flatten(), c=pixel_colors, marker=\".\")\n",
    "    plt.xlabel(\"Value\")\n",
    "    plt.ylabel(\"Hue\")\n",
    "else:\n",
    "    plt.figure(figsize=(30,30))\n",
    "    plt.subplot(1,3,1)\n",
    "    plt.title('Hue')\n",
    "    plt.imshow(hue)\n",
    "    plt.axis('off')\n",
    "    plt.colorbar()\n",
    "    plt.subplot(1,3,2)\n",
    "    plt.title('Saturation')\n",
    "    plt.imshow(sat)\n",
    "    plt.axis('off')\n",
    "    plt.colorbar()\n",
    "    plt.subplot(1,3,3)\n",
    "    plt.title('Value')\n",
    "    plt.axis('off')\n",
    "    plt.imshow(val)\n",
    "    plt.colorbar()"
   ]
  },
  {
   "cell_type": "markdown",
   "metadata": {},
   "source": [
    "![HSV reference image](./media/HSV_ref_img.png)\n",
    "\n",
    "**Reference the images or plots above to inform your values below.**\n",
    "| Channel | Effect |\n",
    "| ----------- | ----------- |\n",
    "| Hue | 0 is red; as values increase, the color follows the inverse rainbow until orange circles back to red again at 255| \n",
    "| Saturation | 0 is a shade of grey; as values increase, the color becomes more vibrant; 255 is the most vibrant | \n",
    "| Value | 0 is black; as values increase, the color becomes lighter | "
   ]
  },
  {
   "cell_type": "markdown",
   "metadata": {},
   "source": [
    "5. Test your values.\n",
    "    1. Once you've explored the colors in your image, identify the parts that you would like to keep.\n",
    "    2. Using whichever visualization you choose, note the high and low end for your desired areas in the Hue Channel. Type them below.\n",
    "\n",
    "    "
   ]
  },
  {
   "cell_type": "code",
   "execution_count": null,
   "metadata": {},
   "outputs": [],
   "source": [
    "# replace 0 and 255 with your high and low ends\n",
    "hue_high = 255\n",
    "hue_low = 0"
   ]
  },
  {
   "cell_type": "markdown",
   "metadata": {},
   "source": [
    "3. Note the high and low end for the your desired areas in the Saturation Channel. Type them below."
   ]
  },
  {
   "cell_type": "code",
   "execution_count": null,
   "metadata": {},
   "outputs": [],
   "source": [
    "# replace 0 and 255 with your high and low ends\n",
    "sat_high = 255\n",
    "sat_low = 0"
   ]
  },
  {
   "cell_type": "markdown",
   "metadata": {},
   "source": [
    "4. Note the high and low end for the your desired areas in the Value Channel. Type them below."
   ]
  },
  {
   "cell_type": "code",
   "execution_count": null,
   "metadata": {},
   "outputs": [],
   "source": [
    "# replace 0 and 255 with your high and low ends\n",
    "val_high = 255\n",
    "val_low = 0"
   ]
  },
  {
   "cell_type": "markdown",
   "metadata": {},
   "source": [
    "5. Preview your mask's performance. Change the above values and re-run until that mask works adequately."
   ]
  },
  {
   "cell_type": "code",
   "execution_count": null,
   "metadata": {},
   "outputs": [],
   "source": [
    "mask_lows = (hue_low, sat_low, val_low)\n",
    "mask_highs = (hue_high, sat_high, val_high)\n",
    "\n",
    "mask = cv.inRange(img, mask_lows, mask_highs)\n",
    "masked_rgb = cv.bitwise_and(img_rgb, img_rgb, mask=mask)\n",
    "\n",
    "plt.figure()\n",
    "plt.subplot(1, 2, 1)\n",
    "plt.imshow(img_rgb)\n",
    "plt.xlabel('Original Image')\n",
    "plt.subplot(1, 2, 2)\n",
    "plt.imshow(masked_rgb)\n",
    "plt.xlabel('Masking Results')\n",
    "plt.show()"
   ]
  }
 ],
 "metadata": {
  "kernelspec": {
   "display_name": "blueberryjammin",
   "language": "python",
   "name": "python3"
  },
  "language_info": {
   "codemirror_mode": {
    "name": "ipython",
    "version": 3
   },
   "file_extension": ".py",
   "mimetype": "text/x-python",
   "name": "python",
   "nbconvert_exporter": "python",
   "pygments_lexer": "ipython3",
   "version": "3.8.20"
  }
 },
 "nbformat": 4,
 "nbformat_minor": 2
}
