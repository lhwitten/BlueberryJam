{
 "cells": [
  {
   "cell_type": "code",
   "execution_count": null,
   "metadata": {},
   "outputs": [
    {
     "name": "stdout",
     "output_type": "stream",
     "text": [
      "Shutting down...\n"
     ]
    }
   ],
   "source": [
    "import serial\n",
    "import threading\n",
    "import time\n",
    "\n",
    "import sys\n",
    "sys.path.append(\"/home/blueberryjam/BlueberryJam/src\")\n",
    "from Serial_connector import *\n",
    "\n",
    "\n",
    "comm_thread = start_comm_thread(interval=1)\n",
    "\n",
    "try:\n",
    "    while True:\n",
    "        # Here, update your variables as needed\n",
    "        # Example:\n",
    "        motor_speed = 200\n",
    "        servo_angles = [100, 50, 120]\n",
    "        actuation_times = [1200, 1800, 1600]\n",
    "        new_shutdown = False\n",
    "        \n",
    "        # Update variables in the communication module\n",
    "        update_variables(motor_speed, servo_angles, new_shutdown, actuation_times)\n",
    "        \n",
    "        # Sleep or perform other operations in the main loop\n",
    "        time.sleep(2)  # Adjust based on your program logic\n",
    "\n",
    "except KeyboardInterrupt:\n",
    "    print(\"Shutting down...\")\n",
    "    shutdown = True\n",
    "    comm_thread.join()\n",
    "    ser.close()\n",
    "    print(\"Arduino communication stopped.\")\n",
    "\n"
   ]
  }
 ],
 "metadata": {
  "kernelspec": {
   "display_name": "Python 3",
   "language": "python",
   "name": "python3"
  },
  "language_info": {
   "codemirror_mode": {
    "name": "ipython",
    "version": 3
   },
   "file_extension": ".py",
   "mimetype": "text/x-python",
   "name": "python",
   "nbconvert_exporter": "python",
   "pygments_lexer": "ipython3",
   "version": "3.11.2"
  }
 },
 "nbformat": 4,
 "nbformat_minor": 2
}
