{
 "cells": [
  {
   "cell_type": "code",
   "execution_count": null,
   "metadata": {},
   "outputs": [
    {
     "name": "stdout",
     "output_type": "stream",
     "text": [
      "Shutting down...\n"
     ]
    }
   ],
   "source": [
    "import serial\n",
    "import threading\n",
    "import time\n",
    "\n",
    "import sys\n",
    "sys.path.append(\"/home/blueberryjam/BlueberryJam/src\")\n",
    "from Serial_connector import *\n",
    "\n",
    "\n",
    "comm_thread = start_comm_thread(interval=1)\n",
    "\n",
    "try:\n",
    "    while True:\n",
    "        # Here, update your variables as needed\n",
    "        # Example:\n",
    "        motor_speed = 200\n",
    "        servo_angles = [100, 50, 120]\n",
    "        actuation_times = [1200, 1800, 1600]\n",
    "        new_shutdown = False\n",
    "        \n",
    "        # Update variables in the communication module\n",
    "        update_variables(motor_speed, servo_angles, new_shutdown, actuation_times)\n",
    "        \n",
    "        # Sleep or perform other operations in the main loop\n",
    "        time.sleep(2)  # Adjust based on your program logic\n",
    "\n",
    "except KeyboardInterrupt:\n",
    "    print(\"Shutting down...\")\n",
    "    shutdown = True\n",
    "    comm_thread.join()\n",
    "    ser.close()\n",
    "    print(\"Arduino communication stopped.\")\n",
    "\n"
   ]
  },
  {
   "cell_type": "code",
   "execution_count": 5,
   "metadata": {},
   "outputs": [
    {
     "name": "stdout",
     "output_type": "stream",
     "text": [
      "Sent: 150.000|1|-1|0|3.799|0.000|0\n",
      "Sent: 150.000|1|-1|0|6.608|0.000|0\n"
     ]
    }
   ],
   "source": [
    "import serial\n",
    "import threading\n",
    "import time\n",
    "import random\n",
    "\n",
    "# Mock serial communication setup for testing\n",
    "# Replace '/dev/ttyACM0' with your port if using a real Arduino\n",
    "port = '/dev/ttyACM0'\n",
    "ser = serial.Serial(port, 9600, timeout=1) if port else None\n",
    "\n",
    "# Shared variables\n",
    "blueberry_process_queue = []\n",
    "shutdown = False\n",
    "\n",
    "# Define a mock class to represent blueberries\n",
    "class Blueberry:\n",
    "    def __init__(self, belt, ripeness, actuation_time):\n",
    "        self.belt = belt\n",
    "        self.ripeness = ripeness\n",
    "        self.actuation_time = actuation_time\n",
    "\n",
    "    def __str__(self):\n",
    "        return f\"Belt: {self.belt}, Ripeness: {self.ripeness}, Actuation Time: {self.actuation_time:.3f}\"\n",
    "\n",
    "def send_blueberry_list_data(process_queue, motor_speed=150.0, shutdown=False, update_time=None):\n",
    "    \"\"\"\n",
    "    Sends a data packet for each blueberry in the process queue.\n",
    "    \"\"\"\n",
    "    if update_time is None:\n",
    "        update_time = time.monotonic()\n",
    "    elapsed_time = time.monotonic() - update_time\n",
    "    for berry in process_queue:\n",
    "        data_packet = f\"{motor_speed:.3f}|{berry.belt}|{berry.ripeness}|{int(shutdown)}|{berry.actuation_time:.3f}|{elapsed_time:.3f}|0\\n\"\n",
    "        if ser:\n",
    "            ser.write(data_packet.encode())\n",
    "        print(f\"Sent: {data_packet.strip()}\")\n",
    "\n",
    "def generate_random_blueberries(num=5):\n",
    "    \"\"\"\n",
    "    Generates a random list of blueberries for testing.\n",
    "    \"\"\"\n",
    "    return [\n",
    "        Blueberry(\n",
    "            belt=1,\n",
    "            ripeness=random.choice([-1, 2]),\n",
    "            actuation_time=random.uniform(1.0, 10.0)\n",
    "        )\n",
    "        for _ in range(num)\n",
    "    ]\n",
    "\n",
    "def async_blueberry_sender(interval=3):\n",
    "    \"\"\"\n",
    "    Asynchronous thread to send blueberry lists at regular intervals.\n",
    "    \"\"\"\n",
    "    global blueberry_process_queue, shutdown\n",
    "    while not shutdown:\n",
    "        if blueberry_process_queue:\n",
    "            send_blueberry_list_data(blueberry_process_queue)\n",
    "            blueberry_process_queue.clear()  # Clear after sending\n",
    "        time.sleep(interval)\n",
    "\n",
    "# Thread management\n",
    "def start_blueberry_thread(interval=3):\n",
    "    \"\"\"\n",
    "    Starts the asynchronous blueberry sender thread.\n",
    "    \"\"\"\n",
    "    thread = threading.Thread(target=async_blueberry_sender, args=(interval,), daemon=True)\n",
    "    thread.start()\n",
    "    return thread\n",
    "\n",
    "def stop_threads():\n",
    "    \"\"\"\n",
    "    Stops all running threads.\n",
    "    \"\"\"\n",
    "    global shutdown\n",
    "    shutdown = True\n",
    "    time.sleep(1)  # Give threads time to clean up\n",
    "\n",
    "# Example usage in Jupyter Notebook\n",
    "def test_blueberry_sending():\n",
    "    \"\"\"\n",
    "    Example function to simulate sending blueberry lists.\n",
    "    \"\"\"\n",
    "    global blueberry_process_queue\n",
    "    # Generate and update the blueberry queue\n",
    "    blueberry_process_queue = generate_random_blueberries(num=3)\n",
    "    print(\"Generated blueberries:\")\n",
    "    for berry in blueberry_process_queue:\n",
    "        print(berry)\n",
    "\n",
    "# Start the thread\n",
    "shutdown = False\n",
    "blueberry_thread = start_blueberry_thread(interval=3)\n",
    "\n",
    "# You can now call `test_blueberry_sending()` in the notebook to add random blueberries to the queue.\n",
    "\n",
    "# To stop the thread safely, call:\n",
    "# stop_threads()\n"
   ]
  },
  {
   "cell_type": "code",
   "execution_count": 10,
   "metadata": {},
   "outputs": [
    {
     "name": "stdout",
     "output_type": "stream",
     "text": [
      "Generated blueberries:\n",
      "Belt: 1, Ripeness: 2, Actuation Time: 1.136\n",
      "Belt: 1, Ripeness: -1, Actuation Time: 1.225\n",
      "Belt: 1, Ripeness: -1, Actuation Time: 4.532\n"
     ]
    },
    {
     "name": "stdout",
     "output_type": "stream",
     "text": [
      "Sent: 150.000|1|2|0|1.136|0.000|0\n",
      "Sent: 150.000|1|-1|0|1.225|0.000|0\n",
      "Sent: 150.000|1|-1|0|4.532|0.000|0\n"
     ]
    }
   ],
   "source": [
    "test_blueberry_sending()\n"
   ]
  }
 ],
 "metadata": {
  "kernelspec": {
   "display_name": "Python 3",
   "language": "python",
   "name": "python3"
  },
  "language_info": {
   "codemirror_mode": {
    "name": "ipython",
    "version": 3
   },
   "file_extension": ".py",
   "mimetype": "text/x-python",
   "name": "python",
   "nbconvert_exporter": "python",
   "pygments_lexer": "ipython3",
   "version": "3.12.4"
  }
 },
 "nbformat": 4,
 "nbformat_minor": 2
}
