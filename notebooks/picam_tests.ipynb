{
 "cells": [
  {
   "cell_type": "code",
   "execution_count": 2,
   "metadata": {},
   "outputs": [
    {
     "name": "stdout",
     "output_type": "stream",
     "text": [
      "Error: Could not read frame.\n"
     ]
    },
    {
     "name": "stderr",
     "output_type": "stream",
     "text": [
      "[ WARN:0@10.233] global cap_v4l.cpp:1136 tryIoctl VIDEOIO(V4L2:/dev/video0): select() timeout.\n"
     ]
    }
   ],
   "source": [
    "import cv2\n",
    "\n",
    "cap = cv2.VideoCapture(0, cv2.CAP_V4L2)  # Specify the V4L2 backend\n",
    "\n",
    "if not cap.isOpened():\n",
    "    print(\"Error: Could not open camera.\")\n",
    "else:\n",
    "    ret, frame = cap.read()\n",
    "    if ret:\n",
    "        filename = \"image.jpg\"\n",
    "        cv2.imwrite(filename, frame)\n",
    "        print(f\"Image saved as {filename}\")\n",
    "    else:\n",
    "        print(\"Error: Could not read frame.\")\n",
    "    cap.release()"
   ]
  },
  {
   "cell_type": "code",
   "execution_count": 1,
   "metadata": {},
   "outputs": [
    {
     "name": "stderr",
     "output_type": "stream",
     "text": [
      "[0:05:57.275647582] [2399] \u001b[1;32m INFO \u001b[1;37mCamera \u001b[1;34mcamera_manager.cpp:325 \u001b[0mlibcamera v0.3.2+27-7330f29b\n"
     ]
    },
    {
     "ename": "IndexError",
     "evalue": "list index out of range",
     "output_type": "error",
     "traceback": [
      "\u001b[0;31m---------------------------------------------------------------------------\u001b[0m",
      "\u001b[0;31mIndexError\u001b[0m                                Traceback (most recent call last)",
      "Cell \u001b[0;32mIn [1], line 5\u001b[0m\n\u001b[1;32m      2\u001b[0m \u001b[38;5;28;01mfrom\u001b[39;00m \u001b[38;5;21;01mdatetime\u001b[39;00m \u001b[38;5;28;01mimport\u001b[39;00m datetime\n\u001b[1;32m      4\u001b[0m \u001b[38;5;66;03m# Initialize the camera\u001b[39;00m\n\u001b[0;32m----> 5\u001b[0m picam2 \u001b[38;5;241m=\u001b[39m \u001b[43mPicamera2\u001b[49m\u001b[43m(\u001b[49m\u001b[43m)\u001b[49m\n\u001b[1;32m      7\u001b[0m \u001b[38;5;28;01mtry\u001b[39;00m:\n\u001b[1;32m      8\u001b[0m     \u001b[38;5;66;03m# Start the camera preview\u001b[39;00m\n\u001b[1;32m      9\u001b[0m     picam2\u001b[38;5;241m.\u001b[39mstart()\n",
      "File \u001b[0;32m/usr/lib/python3/dist-packages/picamera2/picamera2.py:257\u001b[0m, in \u001b[0;36mPicamera2.__init__\u001b[0;34m(self, camera_num, verbose_console, tuning, allocator)\u001b[0m\n\u001b[1;32m    255\u001b[0m \u001b[38;5;28mself\u001b[39m\u001b[38;5;241m.\u001b[39mis_open \u001b[38;5;241m=\u001b[39m \u001b[38;5;28;01mFalse\u001b[39;00m\n\u001b[1;32m    256\u001b[0m \u001b[38;5;66;03m# Get the real libcamera internal number.\u001b[39;00m\n\u001b[0;32m--> 257\u001b[0m camera_num \u001b[38;5;241m=\u001b[39m \u001b[38;5;28;43mself\u001b[39;49m\u001b[38;5;241;43m.\u001b[39;49m\u001b[43mglobal_camera_info\u001b[49m\u001b[43m(\u001b[49m\u001b[43m)\u001b[49m\u001b[43m[\u001b[49m\u001b[43mcamera_num\u001b[49m\u001b[43m]\u001b[49m[\u001b[38;5;124m'\u001b[39m\u001b[38;5;124mNum\u001b[39m\u001b[38;5;124m'\u001b[39m]\n\u001b[1;32m    258\u001b[0m \u001b[38;5;28mself\u001b[39m\u001b[38;5;241m.\u001b[39m_cm\u001b[38;5;241m.\u001b[39madd(camera_num, \u001b[38;5;28mself\u001b[39m)\n\u001b[1;32m    259\u001b[0m \u001b[38;5;28mself\u001b[39m\u001b[38;5;241m.\u001b[39mcamera_idx \u001b[38;5;241m=\u001b[39m camera_num\n",
      "\u001b[0;31mIndexError\u001b[0m: list index out of range"
     ]
    }
   ],
   "source": [
    "from picamera2 import Picamera2\n",
    "from datetime import datetime\n",
    "\n",
    "# Initialize the camera\n",
    "picam2 = Picamera2()\n",
    "\n",
    "try:\n",
    "    # Start the camera preview\n",
    "    picam2.start()\n",
    "\n",
    "    # Set the file name with timestamp for uniqueness\n",
    "    filename = f\"../captures/images/image_{datetime.now().strftime('%Y%m%d_%H%M%S')}.jpg\"\n",
    "\n",
    "    # Capture the image\n",
    "    picam2.capture_file(filename)\n",
    "    print(f\"Image saved as {filename}\")\n",
    "\n",
    "finally:\n",
    "    # Stop the camera after capturing the image\n",
    "    picam2.stop()\n",
    "    picam2.close()\n"
   ]
  },
  {
   "cell_type": "code",
   "execution_count": 1,
   "metadata": {},
   "outputs": [
    {
     "name": "stderr",
     "output_type": "stream",
     "text": [
      "[1:02:20.342546194] [9716] \u001b[1;32m INFO \u001b[1;37mCamera \u001b[1;34mcamera_manager.cpp:325 \u001b[0mlibcamera v0.3.2+27-7330f29b\n",
      "[1:02:20.417683527] [9734] \u001b[1;33m WARN \u001b[1;37mRPiSdn \u001b[1;34msdn.cpp:40 \u001b[0mUsing legacy SDN tuning - please consider moving SDN inside rpi.denoise\n",
      "[1:02:20.422628787] [9734] \u001b[1;32m INFO \u001b[1;37mRPI \u001b[1;34mvc4.cpp:447 \u001b[0mRegistered camera /base/soc/i2c0mux/i2c@1/imx708@1a to Unicam device /dev/media4 and ISP device /dev/media0\n",
      "[1:02:20.422878602] [9734] \u001b[1;32m INFO \u001b[1;37mRPI \u001b[1;34mpipeline_base.cpp:1126 \u001b[0mUsing configuration file '/usr/share/libcamera/pipeline/rpi/vc4/rpi_apps.yaml'\n",
      "[1:02:20.451883157] [9716] \u001b[1;32m INFO \u001b[1;37mCamera \u001b[1;34mcamera.cpp:1197 \u001b[0mconfiguring streams: (0) 640x480-XBGR8888 (1) 1536x864-SBGGR10_CSI2P\n",
      "[1:02:20.453340713] [9734] \u001b[1;32m INFO \u001b[1;37mRPI \u001b[1;34mvc4.cpp:622 \u001b[0mSensor: /base/soc/i2c0mux/i2c@1/imx708@1a - Selected sensor format: 1536x864-SBGGR10_1X10 - Selected unicam format: 1536x864-pBAA\n",
      "libpng warning: iCCP: known incorrect sRGB profile\n",
      "libpng warning: iCCP: known incorrect sRGB profile\n",
      "libpng warning: iCCP: known incorrect sRGB profile\n",
      "libpng warning: iCCP: known incorrect sRGB profile\n",
      "libpng warning: iCCP: known incorrect sRGB profile\n"
     ]
    },
    {
     "ename": "KeyboardInterrupt",
     "evalue": "",
     "output_type": "error",
     "traceback": [
      "\u001b[0;31m---------------------------------------------------------------------------\u001b[0m",
      "\u001b[0;31mKeyboardInterrupt\u001b[0m                         Traceback (most recent call last)",
      "Cell \u001b[0;32mIn [1], line 17\u001b[0m\n\u001b[1;32m     14\u001b[0m \u001b[38;5;28;01mtry\u001b[39;00m:\n\u001b[1;32m     15\u001b[0m     \u001b[38;5;28;01mwhile\u001b[39;00m \u001b[38;5;28;01mTrue\u001b[39;00m:\n\u001b[1;32m     16\u001b[0m         \u001b[38;5;66;03m# Capture an image from the camera stream as a NumPy array\u001b[39;00m\n\u001b[0;32m---> 17\u001b[0m         frame \u001b[38;5;241m=\u001b[39m \u001b[43mpicam2\u001b[49m\u001b[38;5;241;43m.\u001b[39;49m\u001b[43mcapture_array\u001b[49m\u001b[43m(\u001b[49m\u001b[43m)\u001b[49m\n\u001b[1;32m     19\u001b[0m         \u001b[38;5;66;03m# Convert the image to OpenCV format and display it\u001b[39;00m\n\u001b[1;32m     20\u001b[0m         cv2\u001b[38;5;241m.\u001b[39mimshow(\u001b[38;5;124m\"\u001b[39m\u001b[38;5;124mPi Camera Stream\u001b[39m\u001b[38;5;124m\"\u001b[39m, frame)\n",
      "File \u001b[0;32m/usr/lib/python3/dist-packages/picamera2/picamera2.py:1608\u001b[0m, in \u001b[0;36mPicamera2.capture_array\u001b[0;34m(self, name, wait, signal_function)\u001b[0m\n\u001b[1;32m   1606\u001b[0m \u001b[38;5;28;01mdef\u001b[39;00m \u001b[38;5;21mcapture_array\u001b[39m(\u001b[38;5;28mself\u001b[39m, name\u001b[38;5;241m=\u001b[39m\u001b[38;5;124m\"\u001b[39m\u001b[38;5;124mmain\u001b[39m\u001b[38;5;124m\"\u001b[39m, wait\u001b[38;5;241m=\u001b[39m\u001b[38;5;28;01mNone\u001b[39;00m, signal_function\u001b[38;5;241m=\u001b[39m\u001b[38;5;28;01mNone\u001b[39;00m):\n\u001b[1;32m   1607\u001b[0m \u001b[38;5;250m    \u001b[39m\u001b[38;5;124;03m\"\"\"Make a 2d image from the next frame in the named stream.\"\"\"\u001b[39;00m\n\u001b[0;32m-> 1608\u001b[0m     \u001b[38;5;28;01mreturn\u001b[39;00m \u001b[38;5;28;43mself\u001b[39;49m\u001b[38;5;241;43m.\u001b[39;49m\u001b[43mdispatch_functions\u001b[49m\u001b[43m(\u001b[49m\u001b[43m[\u001b[49m\u001b[43mpartial\u001b[49m\u001b[43m(\u001b[49m\u001b[38;5;28;43mself\u001b[39;49m\u001b[38;5;241;43m.\u001b[39;49m\u001b[43mcapture_array_\u001b[49m\u001b[43m,\u001b[49m\u001b[43m \u001b[49m\u001b[43mname\u001b[49m\u001b[43m)\u001b[49m\u001b[43m]\u001b[49m\u001b[43m,\u001b[49m\u001b[43m \u001b[49m\u001b[43mwait\u001b[49m\u001b[43m,\u001b[49m\u001b[43m \u001b[49m\u001b[43msignal_function\u001b[49m\u001b[43m)\u001b[49m\n",
      "File \u001b[0;32m/usr/lib/python3/dist-packages/picamera2/picamera2.py:1354\u001b[0m, in \u001b[0;36mPicamera2.dispatch_functions\u001b[0;34m(self, functions, wait, signal_function, immediate)\u001b[0m\n\u001b[1;32m   1352\u001b[0m     \u001b[38;5;28;01mif\u001b[39;00m only_job \u001b[38;5;129;01mand\u001b[39;00m (\u001b[38;5;28mself\u001b[39m\u001b[38;5;241m.\u001b[39mcompleted_requests \u001b[38;5;129;01mor\u001b[39;00m immediate):\n\u001b[1;32m   1353\u001b[0m         \u001b[38;5;28mself\u001b[39m\u001b[38;5;241m.\u001b[39m_run_process_requests()\n\u001b[0;32m-> 1354\u001b[0m \u001b[38;5;28;01mreturn\u001b[39;00m \u001b[43mjob\u001b[49m\u001b[38;5;241;43m.\u001b[39;49m\u001b[43mget_result\u001b[49m\u001b[43m(\u001b[49m\u001b[43mtimeout\u001b[49m\u001b[38;5;241;43m=\u001b[39;49m\u001b[43mtimeout\u001b[49m\u001b[43m)\u001b[49m \u001b[38;5;28;01mif\u001b[39;00m wait \u001b[38;5;28;01melse\u001b[39;00m job\n",
      "File \u001b[0;32m/usr/lib/python3/dist-packages/picamera2/job.py:79\u001b[0m, in \u001b[0;36mJob.get_result\u001b[0;34m(self, timeout)\u001b[0m\n\u001b[1;32m     73\u001b[0m \u001b[38;5;28;01mdef\u001b[39;00m \u001b[38;5;21mget_result\u001b[39m(\u001b[38;5;28mself\u001b[39m, timeout\u001b[38;5;241m=\u001b[39m\u001b[38;5;28;01mNone\u001b[39;00m):\n\u001b[1;32m     74\u001b[0m \u001b[38;5;250m    \u001b[39m\u001b[38;5;124;03m\"\"\"This fetches the 'final result' of the job\u001b[39;00m\n\u001b[1;32m     75\u001b[0m \n\u001b[1;32m     76\u001b[0m \u001b[38;5;124;03m    (being given by the return value of the last function executed). It will block\u001b[39;00m\n\u001b[1;32m     77\u001b[0m \u001b[38;5;124;03m    if necessary for the job to complete.\u001b[39;00m\n\u001b[1;32m     78\u001b[0m \u001b[38;5;124;03m    \"\"\"\u001b[39;00m\n\u001b[0;32m---> 79\u001b[0m     \u001b[38;5;28;01mreturn\u001b[39;00m \u001b[38;5;28;43mself\u001b[39;49m\u001b[38;5;241;43m.\u001b[39;49m\u001b[43m_future\u001b[49m\u001b[38;5;241;43m.\u001b[39;49m\u001b[43mresult\u001b[49m\u001b[43m(\u001b[49m\u001b[43mtimeout\u001b[49m\u001b[38;5;241;43m=\u001b[39;49m\u001b[43mtimeout\u001b[49m\u001b[43m)\u001b[49m\n",
      "File \u001b[0;32m/usr/lib/python3.11/concurrent/futures/_base.py:451\u001b[0m, in \u001b[0;36mFuture.result\u001b[0;34m(self, timeout)\u001b[0m\n\u001b[1;32m    448\u001b[0m \u001b[38;5;28;01melif\u001b[39;00m \u001b[38;5;28mself\u001b[39m\u001b[38;5;241m.\u001b[39m_state \u001b[38;5;241m==\u001b[39m FINISHED:\n\u001b[1;32m    449\u001b[0m     \u001b[38;5;28;01mreturn\u001b[39;00m \u001b[38;5;28mself\u001b[39m\u001b[38;5;241m.\u001b[39m__get_result()\n\u001b[0;32m--> 451\u001b[0m \u001b[38;5;28;43mself\u001b[39;49m\u001b[38;5;241;43m.\u001b[39;49m\u001b[43m_condition\u001b[49m\u001b[38;5;241;43m.\u001b[39;49m\u001b[43mwait\u001b[49m\u001b[43m(\u001b[49m\u001b[43mtimeout\u001b[49m\u001b[43m)\u001b[49m\n\u001b[1;32m    453\u001b[0m \u001b[38;5;28;01mif\u001b[39;00m \u001b[38;5;28mself\u001b[39m\u001b[38;5;241m.\u001b[39m_state \u001b[38;5;129;01min\u001b[39;00m [CANCELLED, CANCELLED_AND_NOTIFIED]:\n\u001b[1;32m    454\u001b[0m     \u001b[38;5;28;01mraise\u001b[39;00m CancelledError()\n",
      "File \u001b[0;32m/usr/lib/python3.11/threading.py:320\u001b[0m, in \u001b[0;36mCondition.wait\u001b[0;34m(self, timeout)\u001b[0m\n\u001b[1;32m    318\u001b[0m \u001b[38;5;28;01mtry\u001b[39;00m:    \u001b[38;5;66;03m# restore state no matter what (e.g., KeyboardInterrupt)\u001b[39;00m\n\u001b[1;32m    319\u001b[0m     \u001b[38;5;28;01mif\u001b[39;00m timeout \u001b[38;5;129;01mis\u001b[39;00m \u001b[38;5;28;01mNone\u001b[39;00m:\n\u001b[0;32m--> 320\u001b[0m         \u001b[43mwaiter\u001b[49m\u001b[38;5;241;43m.\u001b[39;49m\u001b[43macquire\u001b[49m\u001b[43m(\u001b[49m\u001b[43m)\u001b[49m\n\u001b[1;32m    321\u001b[0m         gotit \u001b[38;5;241m=\u001b[39m \u001b[38;5;28;01mTrue\u001b[39;00m\n\u001b[1;32m    322\u001b[0m     \u001b[38;5;28;01melse\u001b[39;00m:\n",
      "\u001b[0;31mKeyboardInterrupt\u001b[0m: "
     ]
    }
   ],
   "source": [
    "import cv2\n",
    "from picamera2 import Picamera2, Preview\n",
    "\n",
    "# Initialize the camera\n",
    "picam2 = Picamera2()\n",
    "\n",
    "# Configure the camera for continuous capture before starting\n",
    "config = picam2.create_preview_configuration()\n",
    "picam2.configure(config)\n",
    "\n",
    "# Start the camera preview\n",
    "picam2.start()\n",
    "\n",
    "try:\n",
    "    while True:\n",
    "        # Capture an image from the camera stream as a NumPy array\n",
    "        frame = picam2.capture_array()\n",
    "\n",
    "        # Convert the image to OpenCV format and display it\n",
    "        cv2.imshow(\"Pi Camera Stream\", frame)\n",
    "\n",
    "        # Break the loop if 'q' is pressed\n",
    "        if cv2.waitKey(1) & 0xFF == ord('q'):\n",
    "            break\n",
    "\n",
    "finally:\n",
    "    # Release resources\n",
    "    picam2.stop()\n",
    "    cv2.destroyAllWindows()\n"
   ]
  },
  {
   "cell_type": "code",
   "execution_count": null,
   "metadata": {},
   "outputs": [
    {
     "name": "stderr",
     "output_type": "stream",
     "text": [
      "[0:40:12.297789246] [4036] \u001b[1;32m INFO \u001b[1;37mCamera \u001b[1;34mcamera_manager.cpp:325 \u001b[0mlibcamera v0.3.2+27-7330f29b\n",
      "[0:40:12.439578246] [4099] \u001b[1;33m WARN \u001b[1;37mRPiSdn \u001b[1;34msdn.cpp:40 \u001b[0mUsing legacy SDN tuning - please consider moving SDN inside rpi.denoise\n",
      "[0:40:12.445954728] [4099] \u001b[1;32m INFO \u001b[1;37mRPI \u001b[1;34mvc4.cpp:447 \u001b[0mRegistered camera /base/soc/i2c0mux/i2c@1/imx708@1a to Unicam device /dev/media2 and ISP device /dev/media1\n",
      "[0:40:12.446114098] [4099] \u001b[1;32m INFO \u001b[1;37mRPI \u001b[1;34mpipeline_base.cpp:1126 \u001b[0mUsing configuration file '/usr/share/libcamera/pipeline/rpi/vc4/rpi_apps.yaml'\n",
      "[0:40:12.471379598] [4036] \u001b[1;32m INFO \u001b[1;37mCamera \u001b[1;34mcamera.cpp:1197 \u001b[0mconfiguring streams: (0) 640x480-XBGR8888 (1) 1536x864-SBGGR10_CSI2P\n",
      "[0:40:12.473957728] [4099] \u001b[1;32m INFO \u001b[1;37mRPI \u001b[1;34mvc4.cpp:622 \u001b[0mSensor: /base/soc/i2c0mux/i2c@1/imx708@1a - Selected sensor format: 1536x864-SBGGR10_1X10 - Selected unicam format: 1536x864-pBAA\n"
     ]
    },
    {
     "name": "stdout",
     "output_type": "stream",
     "text": [
      "Press 'q' to stop capturing images.\n"
     ]
    },
    {
     "name": "stderr",
     "output_type": "stream",
     "text": [
      "libpng warning: iCCP: known incorrect sRGB profile\n",
      "libpng warning: iCCP: known incorrect sRGB profile\n",
      "libpng warning: iCCP: known incorrect sRGB profile\n",
      "libpng warning: iCCP: known incorrect sRGB profile\n",
      "libpng warning: iCCP: known incorrect sRGB profile\n"
     ]
    },
    {
     "name": "stdout",
     "output_type": "stream",
     "text": [
      "Image saved as ../captures/streams20241104_235707/image_20241104_235712.jpg\n",
      "Image saved as ../captures/streams20241104_235707/image_20241104_235717.jpg\n",
      "Image saved as ../captures/streams20241104_235707/image_20241104_235722.jpg\n",
      "Image saved as ../captures/streams20241104_235707/image_20241104_235727.jpg\n",
      "Image saved as ../captures/streams20241104_235707/image_20241104_235732.jpg\n",
      "Image saved as ../captures/streams20241104_235707/image_20241104_235737.jpg\n",
      "Image saved as ../captures/streams20241104_235707/image_20241104_235742.jpg\n",
      "Image saved as ../captures/streams20241104_235707/image_20241104_235747.jpg\n",
      "Image saved as ../captures/streams20241104_235707/image_20241104_235752.jpg\n",
      "Camera closed.\n"
     ]
    }
   ],
   "source": [
    "import sys\n",
    "import time\n",
    "import os\n",
    "from picamera2 import Picamera2\n",
    "from datetime import datetime\n",
    "import cv2\n",
    "\n",
    "# Initialize the camera\n",
    "picam2 = Picamera2()\n",
    "\n",
    "# Set the capture directory and ensure it exists\n",
    "capture_directory = \"../captures/streams/\" + f\"{datetime.now().strftime('%Y%m%d_%H%M%S')}\"\n",
    "os.makedirs(capture_directory, exist_ok=True)\n",
    "\n",
    "# Set the capture interval (in seconds)\n",
    "capture_interval = 5  # Adjust this for your preferred interval\n",
    "\n",
    "# Start the camera and open preview\n",
    "picam2.start()\n",
    "\n",
    "print(\"Press 'q' to stop capturing images.\")\n",
    "\n",
    "# Track the last capture time\n",
    "last_capture_time = time.time()\n",
    "\n",
    "try:\n",
    "    while True:\n",
    "        # Grab the latest frame for preview\n",
    "        frame = picam2.capture_array()\n",
    "        \n",
    "        # Show the video stream (requires display capability)\n",
    "        cv2.imshow(\"Camera Stream\", frame)\n",
    "\n",
    "        # Check if enough time has passed to save a new image\n",
    "        current_time = time.time()\n",
    "        if current_time - last_capture_time >= capture_interval:\n",
    "            # Save an image with a timestamped filename\n",
    "            filename = os.path.join(capture_directory, f\"image_{datetime.now().strftime('%Y%m%d_%H%M%S')}.jpg\")\n",
    "            picam2.capture_file(filename)\n",
    "            print(f\"Image saved as {filename}\")\n",
    "            last_capture_time = current_time  # Update last capture time\n",
    "\n",
    "        # Check for the quit key ('q') to exit\n",
    "        if cv2.waitKey(1) & 0xFF == ord('q'):\n",
    "            break\n",
    "\n",
    "except KeyboardInterrupt:\n",
    "    print(\"Stopping capture...\")\n",
    "\n",
    "finally:\n",
    "    # Stop and close the camera\n",
    "    picam2.stop()\n",
    "    picam2.close()\n",
    "    cv2.destroyAllWindows()\n",
    "    print(\"Camera closed.\")\n"
   ]
  },
  {
   "cell_type": "code",
   "execution_count": 1,
   "metadata": {},
   "outputs": [
    {
     "name": "stderr",
     "output_type": "stream",
     "text": [
      "[9:50:07.659075246] [9079] \u001b[1;32m INFO \u001b[1;37mCamera \u001b[1;34mcamera_manager.cpp:325 \u001b[0mlibcamera v0.3.2+27-7330f29b\n",
      "[9:50:07.868679912] [9097] \u001b[1;33m WARN \u001b[1;37mRPiSdn \u001b[1;34msdn.cpp:40 \u001b[0mUsing legacy SDN tuning - please consider moving SDN inside rpi.denoise\n",
      "[9:50:07.881485542] [9097] \u001b[1;32m INFO \u001b[1;37mRPI \u001b[1;34mvc4.cpp:447 \u001b[0mRegistered camera /base/soc/i2c0mux/i2c@1/imx708@1a to Unicam device /dev/media2 and ISP device /dev/media0\n",
      "[9:50:07.881661523] [9097] \u001b[1;32m INFO \u001b[1;37mRPI \u001b[1;34mpipeline_base.cpp:1126 \u001b[0mUsing configuration file '/usr/share/libcamera/pipeline/rpi/vc4/rpi_apps.yaml'\n",
      "[9:50:07.933295764] [9079] \u001b[1;32m INFO \u001b[1;37mCamera \u001b[1;34mcamera.cpp:1197 \u001b[0mconfiguring streams: (0) 640x480-XBGR8888 (1) 1536x864-SBGGR10_CSI2P\n",
      "[9:50:07.934189764] [9097] \u001b[1;32m INFO \u001b[1;37mRPI \u001b[1;34mvc4.cpp:622 \u001b[0mSensor: /base/soc/i2c0mux/i2c@1/imx708@1a - Selected sensor format: 1536x864-SBGGR10_1X10 - Selected unicam format: 1536x864-pBAA\n",
      "[9:50:08.071254931] [9097] \u001b[1;31mERROR \u001b[1;37mV4L2 \u001b[1;34mv4l2_videodevice.cpp:1994 \u001b[0;32m/dev/video1[92:cap]: \u001b[0mFailed to start streaming: Input/output error\n"
     ]
    },
    {
     "ename": "RuntimeError",
     "evalue": "Failed to start camera: Input/output error",
     "output_type": "error",
     "traceback": [
      "\u001b[0;31m---------------------------------------------------------------------------\u001b[0m",
      "\u001b[0;31mRuntimeError\u001b[0m                              Traceback (most recent call last)",
      "Cell \u001b[0;32mIn [1], line 11\u001b[0m\n\u001b[1;32m      5\u001b[0m capture_interval \u001b[38;5;241m=\u001b[39m \u001b[38;5;241m5\u001b[39m  \u001b[38;5;66;03m# Adjust this for your preferred interval\u001b[39;00m\n\u001b[1;32m      9\u001b[0m last_capture_time \u001b[38;5;241m=\u001b[39m time\u001b[38;5;241m.\u001b[39mtime()\n\u001b[0;32m---> 11\u001b[0m my_cam \u001b[38;5;241m=\u001b[39m \u001b[43minitialize_camera_stream\u001b[49m\u001b[43m(\u001b[49m\u001b[43m)\u001b[49m\n\u001b[1;32m     13\u001b[0m \u001b[38;5;28;01mtry\u001b[39;00m:\n\u001b[1;32m     14\u001b[0m     \u001b[38;5;28;01mwhile\u001b[39;00m \u001b[38;5;28;01mTrue\u001b[39;00m:\n\u001b[1;32m     15\u001b[0m         \u001b[38;5;66;03m# Grab the latest frame for preview\u001b[39;00m\n",
      "File \u001b[0;32m~/BlueberryJam/src/Camera.py:31\u001b[0m, in \u001b[0;36minitialize_camera_stream\u001b[0;34m(save_output)\u001b[0m\n\u001b[1;32m     28\u001b[0m capture_interval \u001b[38;5;241m=\u001b[39m \u001b[38;5;241m5\u001b[39m  \u001b[38;5;66;03m# Adjust this for your preferred interval\u001b[39;00m\n\u001b[1;32m     30\u001b[0m \u001b[38;5;66;03m# Start the camera and open preview\u001b[39;00m\n\u001b[0;32m---> 31\u001b[0m \u001b[43mpicam2\u001b[49m\u001b[38;5;241;43m.\u001b[39;49m\u001b[43mstart\u001b[49m\u001b[43m(\u001b[49m\u001b[43m)\u001b[49m\n\u001b[1;32m     34\u001b[0m stream_cam \u001b[38;5;241m=\u001b[39m cam_struct(picam2,capture_directory,save_output,capture_directory)\n\u001b[1;32m     36\u001b[0m \u001b[38;5;28;01mreturn\u001b[39;00m stream_cam\n",
      "File \u001b[0;32m/usr/lib/python3/dist-packages/picamera2/picamera2.py:1177\u001b[0m, in \u001b[0;36mPicamera2.start\u001b[0;34m(self, config, show_preview)\u001b[0m\n\u001b[1;32m   1175\u001b[0m \u001b[38;5;28;01mif\u001b[39;00m show_preview \u001b[38;5;129;01mis\u001b[39;00m \u001b[38;5;129;01mnot\u001b[39;00m \u001b[38;5;28;01mNone\u001b[39;00m \u001b[38;5;129;01mand\u001b[39;00m \u001b[38;5;129;01mnot\u001b[39;00m \u001b[38;5;28mself\u001b[39m\u001b[38;5;241m.\u001b[39m_event_loop_running:\n\u001b[1;32m   1176\u001b[0m     \u001b[38;5;28mself\u001b[39m\u001b[38;5;241m.\u001b[39mstart_preview(show_preview)\n\u001b[0;32m-> 1177\u001b[0m \u001b[38;5;28;43mself\u001b[39;49m\u001b[38;5;241;43m.\u001b[39;49m\u001b[43mstart_\u001b[49m\u001b[43m(\u001b[49m\u001b[43m)\u001b[49m\n",
      "File \u001b[0;32m/usr/lib/python3/dist-packages/picamera2/picamera2.py:1145\u001b[0m, in \u001b[0;36mPicamera2.start_\u001b[0;34m(self)\u001b[0m\n\u001b[1;32m   1143\u001b[0m \u001b[38;5;28mself\u001b[39m\u001b[38;5;241m.\u001b[39mcontrols \u001b[38;5;241m=\u001b[39m Controls(\u001b[38;5;28mself\u001b[39m)\n\u001b[1;32m   1144\u001b[0m \u001b[38;5;66;03m# camera.start() now throws an error if it fails.\u001b[39;00m\n\u001b[0;32m-> 1145\u001b[0m \u001b[38;5;28;43mself\u001b[39;49m\u001b[38;5;241;43m.\u001b[39;49m\u001b[43mcamera\u001b[49m\u001b[38;5;241;43m.\u001b[39;49m\u001b[43mstart\u001b[49m\u001b[43m(\u001b[49m\u001b[43mcontrols\u001b[49m\u001b[43m)\u001b[49m\n\u001b[1;32m   1146\u001b[0m \u001b[38;5;28;01mfor\u001b[39;00m request \u001b[38;5;129;01min\u001b[39;00m \u001b[38;5;28mself\u001b[39m\u001b[38;5;241m.\u001b[39m_make_requests():\n\u001b[1;32m   1147\u001b[0m     \u001b[38;5;28mself\u001b[39m\u001b[38;5;241m.\u001b[39mcamera\u001b[38;5;241m.\u001b[39mqueue_request(request)\n",
      "\u001b[0;31mRuntimeError\u001b[0m: Failed to start camera: Input/output error"
     ]
    }
   ],
   "source": [
    "import sys\n",
    "sys.path.append(\"/home/blueberryjam/BlueberryJam/src\")\n",
    "from Camera import *\n",
    "# Set the capture interval (in seconds)\n",
    "capture_interval = 5  # Adjust this for your preferred interval\n",
    "\n",
    "\n",
    "\n",
    "last_capture_time = time.time()\n",
    "\n",
    "my_cam = initialize_camera_stream()\n",
    "\n",
    "try:\n",
    "    while True:\n",
    "        # Grab the latest frame for preview\n",
    "        frame = capture_camera_stream(my_cam,-1)\n",
    "        \n",
    "        # Show the video stream (requires display capability)\n",
    "        cv2.imshow(\"Camera Stream\", frame)\n",
    "\n",
    "        # Check if enough time has passed to save a new image\n",
    "        current_time = time.time()\n",
    "        if current_time - last_capture_time >= capture_interval:\n",
    "            capture_camera_stream(my_cam,1)\n",
    "\n",
    "            last_capture_time = current_time  # Update last capture time\n",
    "\n",
    "        # Check for the quit key ('q') to exit\n",
    "        if cv2.waitKey(1) & 0xFF == ord('q'):\n",
    "            break\n",
    "\n",
    "except KeyboardInterrupt:\n",
    "    print(\"Stopping capture...\")\n",
    "finally:\n",
    "    end_camera_stream(my_cam)\n",
    "\n"
   ]
  },
  {
   "cell_type": "code",
   "execution_count": 1,
   "metadata": {},
   "outputs": [
    {
     "name": "stderr",
     "output_type": "stream",
     "text": [
      "[4:55:59.509673191] [7744] \u001b[1;32m INFO \u001b[1;37mCamera \u001b[1;34mcamera_manager.cpp:325 \u001b[0mlibcamera v0.3.2+27-7330f29b\n",
      "[4:55:59.666260191] [7762] \u001b[1;33m WARN \u001b[1;37mRPiSdn \u001b[1;34msdn.cpp:40 \u001b[0mUsing legacy SDN tuning - please consider moving SDN inside rpi.denoise\n",
      "[4:55:59.674855006] [7762] \u001b[1;32m INFO \u001b[1;37mRPI \u001b[1;34mvc4.cpp:447 \u001b[0mRegistered camera /base/soc/i2c0mux/i2c@1/imx708@1a to Unicam device /dev/media2 and ISP device /dev/media0\n",
      "[4:55:59.675146246] [7762] \u001b[1;32m INFO \u001b[1;37mRPI \u001b[1;34mpipeline_base.cpp:1126 \u001b[0mUsing configuration file '/usr/share/libcamera/pipeline/rpi/vc4/rpi_apps.yaml'\n",
      "[4:55:59.696247024] [7744] \u001b[1;32m INFO \u001b[1;37mCamera \u001b[1;34mcamera.cpp:1197 \u001b[0mconfiguring streams: (0) 640x480-XBGR8888 (1) 1536x864-SBGGR10_CSI2P\n",
      "[4:55:59.697260191] [7762] \u001b[1;32m INFO \u001b[1;37mRPI \u001b[1;34mvc4.cpp:622 \u001b[0mSensor: /base/soc/i2c0mux/i2c@1/imx708@1a - Selected sensor format: 1536x864-SBGGR10_1X10 - Selected unicam format: 1536x864-pBAA\n"
     ]
    }
   ],
   "source": [
    "import sys\n",
    "sys.path.append(\"/home/blueberryjam/BlueberryJam/src\")\n",
    "from Camera import *\n",
    "# Set the capture interval (in seconds)\n",
    "capture_interval = .1  # Adjust this for your preferred interval\n",
    "\n",
    "\n",
    "\n",
    "last_capture_time = time.time()\n",
    "\n",
    "my_cam = initialize_camera_stream()\n"
   ]
  },
  {
   "cell_type": "code",
   "execution_count": null,
   "metadata": {},
   "outputs": [
    {
     "name": "stdout",
     "output_type": "stream",
     "text": [
      "Stopping capture...\n",
      "done\n"
     ]
    },
    {
     "name": "stderr",
     "output_type": "stream",
     "text": [
      "[5:15:58.120438050] [7767] \u001b[1;31mERROR \u001b[1;37mIPARPI \u001b[1;34mcam_helper_imx708.cpp:273 \u001b[0mPDAF data in unsupported format\n",
      "[5:16:08.743324674] [7767] \u001b[1;31mERROR \u001b[1;37mIPARPI \u001b[1;34mcam_helper_imx708.cpp:273 \u001b[0mPDAF data in unsupported format\n",
      "[5:16:45.315371726] [7767] \u001b[1;31mERROR \u001b[1;37mIPARPI \u001b[1;34mcam_helper_imx708.cpp:341 \u001b[0mLin/Log histogram mismatch\n",
      "[5:17:14.661298190] [7767] \u001b[1;31mERROR \u001b[1;37mIPARPI \u001b[1;34mcam_helper_imx708.cpp:273 \u001b[0mPDAF data in unsupported format\n",
      "[5:52:53.246257600] [7767] \u001b[1;31mERROR \u001b[1;37mIPARPI \u001b[1;34mcam_helper_imx708.cpp:273 \u001b[0mPDAF data in unsupported format\n",
      "[6:08:58.200607988] [7767] \u001b[1;31mERROR \u001b[1;37mIPARPI \u001b[1;34mcam_helper_imx708.cpp:273 \u001b[0mPDAF data in unsupported format\n",
      "[6:09:38.197130798] [7767] \u001b[1;31mERROR \u001b[1;37mIPARPI \u001b[1;34mcam_helper_imx708.cpp:273 \u001b[0mPDAF data in unsupported format\n",
      "[6:22:17.435236697] [7767] \u001b[1;31mERROR \u001b[1;37mIPARPI \u001b[1;34mcam_helper_imx708.cpp:273 \u001b[0mPDAF data in unsupported format\n",
      "[6:22:56.434728692] [7767] \u001b[1;31mERROR \u001b[1;37mIPARPI \u001b[1;34mcam_helper_imx708.cpp:273 \u001b[0mPDAF data in unsupported format\n",
      "[6:24:01.435931117] [7767] \u001b[1;31mERROR \u001b[1;37mIPARPI \u001b[1;34mcam_helper_imx708.cpp:273 \u001b[0mPDAF data in unsupported format\n",
      "[6:40:00.724248656] [7767] \u001b[1;31mERROR \u001b[1;37mIPARPI \u001b[1;34mcam_helper_imx708.cpp:273 \u001b[0mPDAF data in unsupported format\n",
      "[6:45:22.732176223] [7767] \u001b[1;31mERROR \u001b[1;37mIPARPI \u001b[1;34mcam_helper_imx708.cpp:273 \u001b[0mPDAF data in unsupported format\n",
      "[6:46:58.727937148] [7767] \u001b[1;31mERROR \u001b[1;37mIPARPI \u001b[1;34mcam_helper_imx708.cpp:273 \u001b[0mPDAF data in unsupported format\n",
      "[6:49:04.735659813] [7767] \u001b[1;31mERROR \u001b[1;37mIPARPI \u001b[1;34mcam_helper_imx708.cpp:273 \u001b[0mPDAF data in unsupported format\n",
      "[6:55:16.738240388] [7767] \u001b[1;31mERROR \u001b[1;37mIPARPI \u001b[1;34mcam_helper_imx708.cpp:273 \u001b[0mPDAF data in unsupported format\n",
      "[7:02:34.744701497] [7767] \u001b[1;31mERROR \u001b[1;37mIPARPI \u001b[1;34mcam_helper_imx708.cpp:273 \u001b[0mPDAF data in unsupported format\n",
      "[7:02:40.745051012] [7767] \u001b[1;31mERROR \u001b[1;37mIPARPI \u001b[1;34mcam_helper_imx708.cpp:273 \u001b[0mPDAF data in unsupported format\n",
      "[7:21:03.804674892] [7767] \u001b[1;31mERROR \u001b[1;37mIPARPI \u001b[1;34mcam_helper_imx708.cpp:273 \u001b[0mPDAF data in unsupported format\n",
      "[7:24:27.808399603] [7767] \u001b[1;31mERROR \u001b[1;37mIPARPI \u001b[1;34mcam_helper_imx708.cpp:273 \u001b[0mPDAF data in unsupported format\n",
      "[7:25:11.809840188] [7767] \u001b[1;31mERROR \u001b[1;37mIPARPI \u001b[1;34mcam_helper_imx708.cpp:273 \u001b[0mPDAF data in unsupported format\n",
      "[7:27:07.815915193] [7767] \u001b[1;31mERROR \u001b[1;37mIPARPI \u001b[1;34mcam_helper_imx708.cpp:273 \u001b[0mPDAF data in unsupported format\n",
      "[7:29:22.547409428] [7762] \u001b[1;33m WARN \u001b[1;37mV4L2 \u001b[1;34mv4l2_videodevice.cpp:2095 \u001b[0;32m/dev/video0[91:cap]: \u001b[0mDequeue timer of 1000000.00us has expired!\n",
      "[7:29:22.547550039] [7762] \u001b[1;31mERROR \u001b[1;37mRPI \u001b[1;34mpipeline_base.cpp:1364 \u001b[0mCamera frontend has timed out!\n",
      "[7:29:22.547583928] [7762] \u001b[1;31mERROR \u001b[1;37mRPI \u001b[1;34mpipeline_base.cpp:1365 \u001b[0mPlease check that your camera sensor connector is attached securely.\n",
      "[7:29:22.547614298] [7762] \u001b[1;31mERROR \u001b[1;37mRPI \u001b[1;34mpipeline_base.cpp:1366 \u001b[0mAlternatively, try another cable and/or sensor.\n"
     ]
    }
   ],
   "source": [
    "from preprocess_img import *\n",
    "try:\n",
    "    while True:\n",
    "        # Grab the latest frame for preview\n",
    "        frame = capture_camera_stream(my_cam,1)\n",
    "        \n",
    "        # Show the video stream (requires display capability)\n",
    "        cv2.imshow(\"Camera Stream\", frame)\n",
    "        #mask = [(0, 70, 100), (95, 125, 134)] # [low, high]\n",
    "        \n",
    "        mask = [(0, 70, 100), (95, 140, 150)] # [low, high]\n",
    "        #mask = [(30, 103, 130), (110, 108, 140)] # [low, high]\n",
    "        #user_input = input(\"input mask\")\n",
    "        \n",
    "        # with open(output_folder + log_file,\"a\") as f:\n",
    "\n",
    "        #     f.write(f\"about to process frame at: {time.time() - first_time}\\n\")\n",
    "\n",
    "        #processed = preprocess_image(mask,path=None,frame=None)\n",
    "        #processed = preprocess_image(mask,path=None,frame=frame)\n",
    "        \n",
    "        masked,img_rgb = perform_backgrounding(mask,frame=crop_img_center(frame, 890,bias = -310))\n",
    "\n",
    "\n",
    "        processed, centroids = perform_centroiding(masked,img_rgb)\n",
    "\n",
    "        # Check if enough time has passed to save a new image\n",
    "        current_time = time.time()\n",
    "        if current_time - last_capture_time >= capture_interval:\n",
    "            capture_camera_stream(my_cam,-1)\n",
    "\n",
    "            last_capture_time = current_time  # Update last capture time\n",
    "\n",
    "        # Check for the quit key ('q') to exit\n",
    "        if cv2.waitKey(1) & 0xFF == ord('q'):\n",
    "            break\n",
    "\n",
    "except KeyboardInterrupt:\n",
    "    print(\"Stopping capture...\")\n",
    "finally:\n",
    "    #end_camera_stream(my_cam)\n",
    "    print(\"done\")\n"
   ]
  }
 ],
 "metadata": {
  "kernelspec": {
   "display_name": "Python 3",
   "language": "python",
   "name": "python3"
  },
  "language_info": {
   "codemirror_mode": {
    "name": "ipython",
    "version": 3
   },
   "file_extension": ".py",
   "mimetype": "text/x-python",
   "name": "python",
   "nbconvert_exporter": "python",
   "pygments_lexer": "ipython3",
   "version": "3.11.2"
  }
 },
 "nbformat": 4,
 "nbformat_minor": 2
}
